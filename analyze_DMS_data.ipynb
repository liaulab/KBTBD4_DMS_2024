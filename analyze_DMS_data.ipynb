{
 "cells": [
  {
   "cell_type": "markdown",
   "id": "422d2dca-3131-4915-b7a7-f74d8de2031f",
   "metadata": {},
   "source": [
    "## Dependencies"
   ]
  },
  {
   "cell_type": "markdown",
   "id": "16b9db1e-32d7-4f8c-8798-a301490c1965",
   "metadata": {},
   "source": [
    "### processing functions"
   ]
  },
  {
   "cell_type": "code",
   "execution_count": null,
   "id": "3b8b452f-28f3-42a9-9a0d-42438e3bba6b",
   "metadata": {},
   "outputs": [],
   "source": [
    "# function to count frequencies of variants, modified from in-house script to count sgRNA frequencies\n",
    "def count_spacers_fwd(in_lib, in_fastq, column_name):\n",
    "\n",
    "    START_KEY = \"GTATGTGGTG\" # identifies constant seq before mutated region to determine position\n",
    "    END_KEY = \"ATGTGGAAGTGCAACAATGC\"  # identifies constant seq after mutated region\n",
    "\n",
    "    dict_perfects = {x:0 for x in in_lib}\n",
    "    try:\n",
    "        handle = gzip.open(in_fastq, \"rt\")\n",
    "    except:\n",
    "        print(\"could not find fastq file\")\n",
    "        return\n",
    "\n",
    "    readiter = SeqIO.parse(handle, \"fastq\")\n",
    "    for record in readiter: # contains the seq and Qscore etc.\n",
    "        read_sequence = str.upper(str(record.seq))\n",
    "        KEY_REGION_START = read_sequence.find(START_KEY)\n",
    "        KEY_REGION_END = read_sequence.find(END_KEY)\n",
    "        if (KEY_REGION_START >=0) and (KEY_REGION_END >=0):\n",
    "            guide = read_sequence[(KEY_REGION_START+10):(KEY_REGION_END)]\n",
    "            if guide in dict_perfects:\n",
    "                dict_perfects[guide] += 1\n",
    "                \n",
    "    return_df = pd.DataFrame()\n",
    "    return_df['NucleotideSeq'] = dict_perfects.keys()\n",
    "    return_df[column_name] = dict_perfects.values()\n",
    "    return return_df\n",
    "\n",
    "# function to add counts from each fastq (corresponding to each sample/replicate) to a column \n",
    "def add_counts_table(df_dir,fastq_dir_wildcard):\n",
    "    df = pd.read_csv(df_dir,sep='\\t')\n",
    "    df_ori_columns = df.columns.tolist()\n",
    "    for fastq in glob.glob(fastq_dir_wildcard):\n",
    "        counts_df = pd.DataFrame()\n",
    "        counts_df = count_spacers_fwd(df['NucleotideSeq'],fastq,fastq.split('/')[-1].split('.')[0].split('_')[0])\n",
    "        df = pd.merge(df,counts_df,on='NucleotideSeq')\n",
    "    columns_sort = df_ori_columns + ['mCherry-R1','mCherry-R2','mCherry-R3','GFPpos-R1','GFPpos-R2','GFPpos-R3','GFPneg-R1','GFPneg-R2','GFPneg-R3']\n",
    "    return df[columns_sort]\n",
    "\n",
    "# function to get normalized log-fold changes by first converting to reads per million and adding a pseudocount of 1 and log-normalizing to mCherry (unsorted)\n",
    "def normalize_counts(df):\n",
    "    df_normalized = df.copy()\n",
    "    for column in df.columns.tolist()[4:]:\n",
    "        df_normalized[column+'_normalized'] = df_normalized[column].apply(lambda x: np.log2((x * 10000000 / df_normalized[column].sum()) + 1))\n",
    "    for i in range(13,16):\n",
    "        df_normalized[df_normalized.columns.tolist()[i+3][:-11]+'_mCherry_normalized']  = df_normalized[df_normalized.columns.tolist()[i+3]]-df_normalized[df_normalized.columns.tolist()[i]]\n",
    "        df_normalized[df_normalized.columns.tolist()[i+6][:-11]+'_mCherry_normalized']  = df_normalized[df_normalized.columns.tolist()[i+6]]-df_normalized[df_normalized.columns.tolist()[i]]\n",
    "    return df_normalized\n",
    "\n",
    "# function to average \n",
    "def average_reps(normalized_df):\n",
    "    averaged_df = normalized_df[normalized_df.columns.tolist()[0:4]]\n",
    "    for i in range(22,24,1):\n",
    "        column_name = normalized_df.columns.tolist()[i].split('_')[0].split('-')[0] + '_normalized_average'\n",
    "        #print(column_name)\n",
    "        #print([normalized_df.columns.tolist()[i]]+[normalized_df.columns.tolist()[i+2]]+[normalized_df.columns.tolist()[i+4]])\n",
    "        averaged_df[column_name] = normalized_df[[normalized_df.columns.tolist()[i]]+[normalized_df.columns.tolist()[i+2]]+[normalized_df.columns.tolist()[i+4]]].mean(axis=1)\n",
    "    return(averaged_df)"
   ]
  },
  {
   "cell_type": "markdown",
   "id": "010251c8-2caa-4a16-a2db-f7489bf2d453",
   "metadata": {},
   "source": [
    "## example lines of code to process fastqs and obtain processed and normalized values for each variant"
   ]
  },
  {
   "cell_type": "code",
   "execution_count": null,
   "id": "c33e03af-3455-455f-bf8a-ba3226c8e9c8",
   "metadata": {},
   "outputs": [],
   "source": [
    "in_lib = #csv of sequences in library\n",
    "in_fastq = #fastq files (can use wildcard if desired)\n",
    "DMS_df = add_counts_table(in_lib,in_fastq)\n",
    "DMS_normalized = normalize_counts(DMS_df)\n",
    "DMS_averaged = average_reps(DMS_normalized)"
   ]
  },
  {
   "cell_type": "markdown",
   "id": "1d8aa49d-f6de-4d1a-a43e-534501140a90",
   "metadata": {},
   "source": [
    "## example lines of code to construct matrices summarizing single and double substitutions and insertions"
   ]
  },
  {
   "cell_type": "code",
   "execution_count": null,
   "id": "1a9e5992-2b3a-416d-ae1c-4bddaeaf5d8c",
   "metadata": {},
   "outputs": [],
   "source": [
    "aa_list = ['E','D','R','H','K','F','Y','W','S','Q','T','N','C','P','A','G','M','V','I','L']\n",
    "WT_seq = 'GGSIPRR'"
   ]
  },
  {
   "cell_type": "code",
   "execution_count": null,
   "id": "cae0366f-b1a3-471c-9482-a26619d0d900",
   "metadata": {},
   "outputs": [],
   "source": [
    "# constructing single subtitution matrix\n",
    "MutSing_arr = np.zeros((20,7)) #20 amino acids, length of mutated span is 7 residues\n",
    "\n",
    "for y in range(len(WT_seq)): #iterate through each position in sequence\n",
    "    for x, aa_1 in enumerate(aa_list): #mutate each position to each other amino acid\n",
    "        if y == len(WT_seq)-1: #if at end of sequence\n",
    "            hit_1 = WT_seq[:y] + aa_1\n",
    "        else: hit_1 = WT_seq[:y] + aa_1 + WT_seq[(y+1):]\n",
    "        MutSing_arr[x,y] = DMS_plotting[DMS_plotting['Amino_acid_Sequence']==hit_1]['GFPneg_normalized_average'].item()"
   ]
  },
  {
   "cell_type": "code",
   "execution_count": null,
   "id": "cf295c9f-eacb-427d-8fa1-e4fb99e6bcc2",
   "metadata": {},
   "outputs": [],
   "source": [
    "# constructing double substitution matrix\n",
    "MutDoub_dict = dict() #constructing a dictionary that store will store a 20 by 7 matrix under the key of the \"first\" substitution\n",
    "\n",
    "for aa_1 in aa_list: #creating empty arrays\n",
    "    MutDoub_dict[aa_1] = np.zeros((20,6))\n",
    "\n",
    "for y in range(len(WT_seq)-1): #iterate through each position in sequence\n",
    "    for aa_1 in aa_list: #keep first aa constant\n",
    "        for x, aa_2 in enumerate(aa_list): #while iterate through second aa\n",
    "            mut_seq = WT_seq[:y] + aa_1 + aa_2 + WT_seq[y+2:]\n",
    "            MutDoub_dict[aa_1][x,y] = DMS_plotting[(DMS_plotting['Amino_acid_Sequence']==mut_seq)]['GFPneg_normalized_average'].item()"
   ]
  },
  {
   "cell_type": "code",
   "execution_count": null,
   "id": "55b87008-abda-4d7c-adea-af9ba0d4aff5",
   "metadata": {},
   "outputs": [],
   "source": [
    "# constructing single insertion matrix\n",
    "InsSing_arr = np.zeros((20,7)) #20 amino acids, length of mutated span is 7 residues and insertions starts between aa 1 and 2 in sequence\n",
    "\n",
    "for y in range(1,len(WT_seq)+1): #iterate through each position in sequence\n",
    "    for x, aa_1 in enumerate(aa_list):\n",
    "        if y == len(WT_seq): #if at end of sequence\n",
    "            hit_1 = WT_seq + aa_1 #add insertion to the end of sequence\n",
    "        else: hit_1 = WT_seq[:y] + aa_1 + WT_seq[y:] #otherwise, insert between       \n",
    "        InsSing_arr[x,y-1] = DMS_plotting[DMS_plotting['Amino_acid_Sequence']==hit_1]['GFPneg_normalized_average'].item()"
   ]
  },
  {
   "cell_type": "code",
   "execution_count": null,
   "id": "3a9e1d4e-a89a-40cd-9e36-4fe470e8d77f",
   "metadata": {},
   "outputs": [],
   "source": [
    "# constructing double insertion matrix\n",
    "InsDoub_dict = dict() #constructing a dictionary that store will store a 20 by 7 matrix under the key of the \"first\" substitution\n",
    "\n",
    "for aa in aa_list: #creating empty arrays\n",
    "    InsDoub_dict[aa] = np.zeros((20,7))\n",
    "\n",
    "for y in range(1,len(WT_seq)+1): #iterate through each position in sequence\n",
    "    for aa_1 in aa_list: #keep first aa constant\n",
    "        for x, aa_2 in enumerate(aa_list): #while iterate through second aa\n",
    "            if y == len(WT_seq): #if at end of seqeunce \n",
    "                hit_1 = WT_seq + aa_1 + aa_2\n",
    "            else: hit_1 = WT_seq[:y] + aa_1 + aa_2 + WT_seq[y:]\n",
    "            InsDoub_dict[aa_1][x,y-1] = DMS_plotting[DMS_plotting['Amino_acid_Sequence']==hit_1]['GFPneg_normalized_average'].item()"
   ]
  }
 ],
 "metadata": {
  "kernelspec": {
   "display_name": "Python [conda env:generic_env]",
   "language": "python",
   "name": "conda-env-generic_env-py"
  },
  "language_info": {
   "codemirror_mode": {
    "name": "ipython",
    "version": 3
   },
   "file_extension": ".py",
   "mimetype": "text/x-python",
   "name": "python",
   "nbconvert_exporter": "python",
   "pygments_lexer": "ipython3",
   "version": "3.12.2"
  }
 },
 "nbformat": 4,
 "nbformat_minor": 5
}
