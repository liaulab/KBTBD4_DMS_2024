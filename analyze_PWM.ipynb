{
 "cells": [
  {
   "cell_type": "markdown",
   "id": "fe1448c9-9d45-4882-b2e7-99de3c86d34c",
   "metadata": {},
   "source": [
    "## Dependencies"
   ]
  },
  {
   "cell_type": "code",
   "execution_count": null,
   "id": "12950149-de7d-444a-9637-6e0c853b1dc8",
   "metadata": {},
   "outputs": [],
   "source": [
    "import pandas as pd\n",
    "import numpy as np\n",
    "import logomaker"
   ]
  },
  {
   "cell_type": "markdown",
   "id": "2f1bdce4-7452-4ca6-9ae8-aff0598288c1",
   "metadata": {},
   "source": [
    "## Functions"
   ]
  },
  {
   "cell_type": "code",
   "execution_count": null,
   "id": "c9c8dda5-2451-462f-b725-aacb1709ee6d",
   "metadata": {},
   "outputs": [],
   "source": [
    "# function to construct probability matrix, and subsequently calculate information content\n",
    "def construct_PWM(df,mut_type):\n",
    "    df_mut = df[(df['New_ID'].str.find('MutDoub') > -1)].copy()\n",
    "    df_mut_calc = df_mut[['ID','Amino_acid_Sequence','NucleotideSeq','New_ID','Seq_len']].copy())#get all variants of a specific category\n",
    "    for col in df_mut.columns.tolist()[4:13]:\n",
    "        df_mut_calc[col+'_normalized'] = df_mut[col].apply(lambda x: (x / df_mut[col].sum()))\n",
    "\n",
    "    # create empty arrays\n",
    "    freq_arr_mCherry = np.zeros((7,len(aa_list))) #20 amino acids, 7 aa\n",
    "    freq_arr_GFPneg = np.zeros((7,len(aa_list))) #20 amino acids, 7 aa\n",
    "    \n",
    "    for i,row in df_mut_calc.iterrows():\n",
    "        for x, aa in enumerate(row['Amino_acid_Sequence']): #get average frequency probability\n",
    "            freq_arr_mCherry[x,aa_list.index(aa)] = freq_arr_mCherry[x,aa_list.index(aa)] + (row['mCherry-R1_normalized'] + row['mCherry-R2_normalized'] + row['mCherry-R3_normalized'])/3\n",
    "            freq_arr_GFPneg[x,aa_list.index(aa)] = freq_arr_GFPneg[x,aa_list.index(aa)] + (row['GFPneg-R1_normalized'] + row['GFPneg-R2_normalized'] + row['GFPneg-R3_normalized'])/3\n",
    "    \n",
    "    PWM = np.zeros((7,len(aa_list)))\n",
    "    for j in range(len(aa_list)):\n",
    "        for i in range(7):\n",
    "            PWM[i,j] = freq_arr_GFPneg[i,j] * np.log2(freq_arr_GFPneg[i,j] / freq_arr_mCherry[i,j]) #calculate information content\n",
    "    \n",
    "    PWM[PWM < 0] = 0\n",
    "    \n",
    "    bits = pd.DataFrame(data = PWM, columns = aa_list)\n",
    "    return bits\n",
    "\n",
    "# function to plot PWM using logomaker\n",
    "def plot_PWM(bits,output_dir)\n",
    "    cm = 1/2.54\n",
    "    fig,ax=plt.subplots()\n",
    "    fig.set_size_inches(10*cm,7*cm)\n",
    "    \n",
    "    logo = logomaker.Logo(bits,ax=ax,\n",
    "                              vpad=.1,\n",
    "                              color_scheme='chemistry',\n",
    "                              font_name='Arial')\n",
    "    # style using Logo methods\n",
    "    logo.style_spines(visible=False)\n",
    "    logo.style_spines(spines=['left', 'bottom'], visible=True)\n",
    "    logo.ax.set_ylim([0,0.9])\n",
    "    \n",
    "    # style using Axes methods\n",
    "    logo.ax.xaxis.set_ticks_position('none')\n",
    "    logo.ax.set_ylabel(\"Bits\")\n",
    "    fig.tight_layout()\n",
    "    plt.savefig(output_dir, bbox_inches='tight')"
   ]
  },
  {
   "cell_type": "markdown",
   "id": "db195b9c-f6fa-4dfb-bdb3-bdd4f5198405",
   "metadata": {},
   "source": [
    "## Example lines to run code"
   ]
  },
  {
   "cell_type": "code",
   "execution_count": null,
   "id": "9dfed0de-c7aa-453c-9ea5-1dc7fd8a1863",
   "metadata": {},
   "outputs": [],
   "source": [
    "aa_list = ['E','D','R','H','K','F','Y','W','S','Q','T','N','C','P','A','G','M','V','I','L']\n",
    "df_dir = #df containing variants and counts information processed by analyze_DMS_data.ipynb\n",
    "df = pd.read_csv(df_dir,sep='\\t')\n",
    "df['Seq_len'] = df['Amino_acid_Sequence'].apply(lambda x: len(x)) #calculate sequence length of variant"
   ]
  },
  {
   "cell_type": "code",
   "execution_count": null,
   "id": "74a446fc-580e-4e31-bbfb-f4e886c42a99",
   "metadata": {},
   "outputs": [],
   "source": [
    "bits = construct_PWM(df,mut_type) #example of mut_type is InsSing (i.e. single insertion) etc\n",
    "\n",
    "output_dir = #dir and filename to output logo plot to\n",
    "plot_PWM(bits,output_dir)"
   ]
  }
 ],
 "metadata": {
  "kernelspec": {
   "display_name": "Python [conda env:generic_env]",
   "language": "python",
   "name": "conda-env-generic_env-py"
  },
  "language_info": {
   "codemirror_mode": {
    "name": "ipython",
    "version": 3
   },
   "file_extension": ".py",
   "mimetype": "text/x-python",
   "name": "python",
   "nbconvert_exporter": "python",
   "pygments_lexer": "ipython3",
   "version": "3.12.2"
  }
 },
 "nbformat": 4,
 "nbformat_minor": 5
}
